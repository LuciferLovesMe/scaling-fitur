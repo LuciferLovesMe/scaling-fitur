{
 "cells": [
  {
   "cell_type": "markdown",
   "id": "0f1048a1-f257-44f8-977a-a06d86ae4f2b",
   "metadata": {},
   "source": [
    "# Feature Scaling\n"
   ]
  },
  {
   "cell_type": "code",
   "execution_count": 1,
   "id": "167cbdf2-a5ef-4e5a-8cf5-7cf25b434ea1",
   "metadata": {},
   "outputs": [],
   "source": [
    "from sklearn.preprocessing import MinMaxScaler, StandardScaler"
   ]
  },
  {
   "cell_type": "code",
   "execution_count": 2,
   "id": "298e5da4-d321-4c62-aa9f-cdf55b8b4f5b",
   "metadata": {},
   "outputs": [],
   "source": [
    "# Contoh data\n",
    "data = [[10], [2], [30], [40], [50]]"
   ]
  },
  {
   "cell_type": "code",
   "execution_count": null,
   "id": "18b1a286-ea15-40bb-a809-21f0c53c4ad5",
   "metadata": {},
   "outputs": [],
   "source": [
    "# Min max scaling\n",
    "min_max_scaler = Min"
   ]
  }
 ],
 "metadata": {
  "kernelspec": {
   "display_name": "Python 3 (ipykernel)",
   "language": "python",
   "name": "python3"
  },
  "language_info": {
   "codemirror_mode": {
    "name": "ipython",
    "version": 3
   },
   "file_extension": ".py",
   "mimetype": "text/x-python",
   "name": "python",
   "nbconvert_exporter": "python",
   "pygments_lexer": "ipython3",
   "version": "3.10.5"
  }
 },
 "nbformat": 4,
 "nbformat_minor": 5
}
